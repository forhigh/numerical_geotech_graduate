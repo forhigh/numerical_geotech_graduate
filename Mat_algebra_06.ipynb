{
  "cells": [
    {
      "cell_type": "markdown",
      "metadata": {
        "id": "view-in-github",
        "colab_type": "text"
      },
      "source": [
        "<a href=\"https://colab.research.google.com/github/forhigh/numerical_geotech_graduate/blob/main/Mat_algebra_06.ipynb\" target=\"_parent\"><img src=\"https://colab.research.google.com/assets/colab-badge.svg\" alt=\"Open In Colab\"/></a>"
      ]
    },
    {
      "cell_type": "markdown",
      "metadata": {
        "collapsed": true,
        "pycharm": {
          "is_executing": false,
          "name": "#%% md\n"
        },
        "id": "Toniy6kx1LFI"
      },
      "source": [
        "## Matrices and Matrix Arithmetic\n",
        "### Defining a matrix:"
      ]
    },
    {
      "cell_type": "code",
      "execution_count": null,
      "metadata": {
        "pycharm": {
          "is_executing": false,
          "name": "#%%\n"
        },
        "id": "cJoxbPD-1LFL",
        "outputId": "3b125100-a3c4-48db-df9e-d119f2c89290",
        "colab": {
          "base_uri": "https://localhost:8080/"
        }
      },
      "outputs": [
        {
          "output_type": "stream",
          "name": "stdout",
          "text": [
            "A: \n",
            "[[1 2 3]\n",
            " [4 5 6]]\n"
          ]
        }
      ],
      "source": [
        "from numpy import array\n",
        "\n",
        "A = array([[1, 2, 3],\n",
        "           [4, 5, 6]])\n",
        "print(f\"A: \\n{A}\")"
      ]
    },
    {
      "cell_type": "markdown",
      "metadata": {
        "id": "Kp-4qaB11LFN"
      },
      "source": [
        "### Matrix Arithmetic\n",
        "### Matrix Addition:"
      ]
    },
    {
      "cell_type": "code",
      "execution_count": null,
      "metadata": {
        "pycharm": {
          "is_executing": false,
          "name": "#%%\n"
        },
        "id": "dOz94-xl1LFN",
        "outputId": "693e2d7e-4121-4b86-d322-48c3e11b5e99",
        "colab": {
          "base_uri": "https://localhost:8080/"
        }
      },
      "outputs": [
        {
          "output_type": "stream",
          "name": "stdout",
          "text": [
            "A: \n",
            "[[1 2 3]\n",
            " [4 5 6]]\n",
            "\n",
            "B: \n",
            "[[1 2 3]\n",
            " [4 5 6]]\n",
            "\n",
            "C: \n",
            "[[ 2  4  6]\n",
            " [ 8 10 12]]\n"
          ]
        }
      ],
      "source": [
        "A = array([[1, 2, 3],\n",
        "           [4, 5, 6]])\n",
        "print(f\"A: \\n{A}\\n\")\n",
        "\n",
        "B = array([[1, 2, 3],\n",
        "           [4, 5, 6]])\n",
        "print(f\"B: \\n{B}\\n\")\n",
        "\n",
        "C = A + B\n",
        "print(f\"C: \\n{C}\")"
      ]
    },
    {
      "cell_type": "markdown",
      "metadata": {
        "id": "roNfG7ET1LFN"
      },
      "source": [
        "### Matrix Subtraction:"
      ]
    },
    {
      "cell_type": "code",
      "execution_count": null,
      "metadata": {
        "pycharm": {
          "is_executing": false,
          "name": "#%%\n"
        },
        "id": "Iog1nEZv1LFO",
        "outputId": "1c611e2c-995f-4705-d17f-ffd38a36c388",
        "colab": {
          "base_uri": "https://localhost:8080/"
        }
      },
      "outputs": [
        {
          "output_type": "stream",
          "name": "stdout",
          "text": [
            "C: \n",
            "[[0 0 0]\n",
            " [0 0 0]]\n"
          ]
        }
      ],
      "source": [
        "C = A - B\n",
        "print(f\"C: \\n{C}\")"
      ]
    },
    {
      "cell_type": "markdown",
      "metadata": {
        "pycharm": {
          "name": "#%% md\n"
        },
        "id": "I_nR9MtN1LFO"
      },
      "source": [
        "### Matrix Multiplication\n",
        "### Hadamard Product:"
      ]
    },
    {
      "cell_type": "code",
      "execution_count": null,
      "metadata": {
        "pycharm": {
          "is_executing": false,
          "name": "#%%\n"
        },
        "id": "crMG4vgB1LFO",
        "outputId": "0253a2ff-05c7-42fe-ac91-b2ad4ec5cec7",
        "colab": {
          "base_uri": "https://localhost:8080/"
        }
      },
      "outputs": [
        {
          "output_type": "stream",
          "name": "stdout",
          "text": [
            "C: \n",
            "[[ 1  4  9]\n",
            " [16 25 36]]\n"
          ]
        }
      ],
      "source": [
        "C = A * B\n",
        "print(f\"C: \\n{C}\")"
      ]
    },
    {
      "cell_type": "markdown",
      "metadata": {
        "pycharm": {
          "name": "#%% md\n"
        },
        "id": "7zvNNxZX1LFP"
      },
      "source": [
        "### Matrix Division:"
      ]
    },
    {
      "cell_type": "code",
      "execution_count": null,
      "metadata": {
        "pycharm": {
          "is_executing": false,
          "name": "#%%\n"
        },
        "id": "q51bza1t1LFP",
        "outputId": "13874799-ea33-430c-ed0e-09015e86c6a3",
        "colab": {
          "base_uri": "https://localhost:8080/"
        }
      },
      "outputs": [
        {
          "output_type": "stream",
          "name": "stdout",
          "text": [
            "C: \n",
            "[[1. 1. 1.]\n",
            " [1. 1. 1.]]\n"
          ]
        }
      ],
      "source": [
        "C = A / B\n",
        "print(f\"C: \\n{C}\")"
      ]
    },
    {
      "cell_type": "markdown",
      "metadata": {
        "id": "ua_0PQiK1LFP"
      },
      "source": [
        "### Matrix-Matrix Multiplication\n",
        "### Using dot() method:"
      ]
    },
    {
      "cell_type": "code",
      "execution_count": null,
      "metadata": {
        "pycharm": {
          "is_executing": false,
          "name": "#%%\n"
        },
        "id": "KDAt1Yru1LFP",
        "outputId": "8b633c42-5dd3-4c1f-d5b1-c5a35abce4b8",
        "colab": {
          "base_uri": "https://localhost:8080/"
        }
      },
      "outputs": [
        {
          "output_type": "stream",
          "name": "stdout",
          "text": [
            "A: \n",
            "[[1 2]\n",
            " [3 4]\n",
            " [5 6]]\n",
            "\n",
            "B: \n",
            "[[1 2]\n",
            " [3 4]]\n",
            "\n",
            "C: \n",
            "[[ 7 10]\n",
            " [15 22]\n",
            " [23 34]]\n"
          ]
        }
      ],
      "source": [
        "A = array([[1, 2],\n",
        "           [3, 4],\n",
        "           [5, 6]])\n",
        "print(f\"A: \\n{A}\\n\")\n",
        "\n",
        "B = array([[1, 2],\n",
        "           [3, 4]])\n",
        "print(f\"B: \\n{B}\\n\")\n",
        "\n",
        "# multiply matrices using dot method\n",
        "C = A.dot(B)\n",
        "print(f\"C: \\n{C}\")"
      ]
    },
    {
      "cell_type": "markdown",
      "metadata": {
        "pycharm": {
          "name": "#%% md\n"
        },
        "id": "1Dn8WyHy1LFQ"
      },
      "source": [
        "### Using @ operand:"
      ]
    },
    {
      "cell_type": "code",
      "execution_count": null,
      "metadata": {
        "pycharm": {
          "is_executing": false,
          "name": "#%%\n"
        },
        "id": "61RR15aI1LFQ",
        "outputId": "96f928af-ccd4-4687-aa0c-36619185e944",
        "colab": {
          "base_uri": "https://localhost:8080/"
        }
      },
      "outputs": [
        {
          "output_type": "stream",
          "name": "stdout",
          "text": [
            "D: \n",
            "[[ 7 10]\n",
            " [15 22]\n",
            " [23 34]]\n"
          ]
        }
      ],
      "source": [
        "D = A @ B\n",
        "print(f\"D: \\n{D}\")"
      ]
    },
    {
      "cell_type": "markdown",
      "metadata": {
        "pycharm": {
          "is_executing": false,
          "name": "#%% md\n"
        },
        "id": "DFyfBIBK1LFQ"
      },
      "source": [
        "### Matrix-Vector Multiplication\n",
        "### Using dot() method:"
      ]
    },
    {
      "cell_type": "code",
      "execution_count": null,
      "metadata": {
        "pycharm": {
          "is_executing": false,
          "name": "#%%\n"
        },
        "id": "Fq90iafq1LFQ",
        "outputId": "64552f51-9a03-42db-a296-3aa2f7b6ec61",
        "colab": {
          "base_uri": "https://localhost:8080/"
        }
      },
      "outputs": [
        {
          "output_type": "stream",
          "name": "stdout",
          "text": [
            "B vector: [0.5 0.5]\n",
            "C: [1.5 3.5 5.5]\n"
          ]
        }
      ],
      "source": [
        "B = array([0.5,\n",
        "           0.5])\n",
        "print(f\"B vector: {B}\")\n",
        "\n",
        "C = A.dot(B)\n",
        "print(f\"C: {C}\")"
      ]
    },
    {
      "cell_type": "markdown",
      "metadata": {
        "pycharm": {
          "is_executing": false,
          "name": "#%% md\n"
        },
        "id": "KSRki2Gg1LFQ"
      },
      "source": [
        "### Matrix-Scalar Multiplication"
      ]
    },
    {
      "cell_type": "code",
      "execution_count": null,
      "metadata": {
        "pycharm": {
          "is_executing": false,
          "name": "#%%\n"
        },
        "id": "TG_5IQT71LFQ",
        "outputId": "5863c8ad-1c1b-4eb7-c3a5-41def47e1a35",
        "colab": {
          "base_uri": "https://localhost:8080/"
        }
      },
      "outputs": [
        {
          "output_type": "stream",
          "name": "stdout",
          "text": [
            "A: \n",
            "[[1 2]\n",
            " [3 4]\n",
            " [5 6]]\n",
            "\n",
            "Scalar b: 0.5\n",
            "\n",
            "C: \n",
            "[[0.5 1. ]\n",
            " [1.5 2. ]\n",
            " [2.5 3. ]]\n"
          ]
        }
      ],
      "source": [
        "A = array([[1, 2],\n",
        "           [3, 4],\n",
        "           [5, 6]])\n",
        "print(f\"A: \\n{A}\\n\")\n",
        "\n",
        "b = 0.5\n",
        "print(f\"Scalar b: {b}\\n\")\n",
        "\n",
        "C = A * b\n",
        "print(f\"C: \\n{C}\")\n"
      ]
    }
  ],
  "metadata": {
    "kernelspec": {
      "display_name": "PyCharm (ML-Deep-Practices)",
      "language": "python",
      "name": "pycharm-f0b42db8"
    },
    "language_info": {
      "codemirror_mode": {
        "name": "ipython",
        "version": 3
      },
      "file_extension": ".py",
      "mimetype": "text/x-python",
      "name": "python",
      "nbconvert_exporter": "python",
      "pygments_lexer": "ipython3",
      "version": "3.7.5"
    },
    "pycharm": {
      "stem_cell": {
        "cell_type": "raw",
        "metadata": {
          "collapsed": false
        },
        "source": []
      }
    },
    "colab": {
      "provenance": [],
      "include_colab_link": true
    }
  },
  "nbformat": 4,
  "nbformat_minor": 0
}