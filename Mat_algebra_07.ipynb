{
  "cells": [
    {
      "cell_type": "markdown",
      "metadata": {
        "id": "view-in-github",
        "colab_type": "text"
      },
      "source": [
        "<a href=\"https://colab.research.google.com/github/forhigh/numerical_geotech_graduate/blob/main/Mat_algebra_07.ipynb\" target=\"_parent\"><img src=\"https://colab.research.google.com/assets/colab-badge.svg\" alt=\"Open In Colab\"/></a>"
      ]
    },
    {
      "cell_type": "markdown",
      "metadata": {
        "id": "303sYiq52Sp4"
      },
      "source": [
        "## Type of Matrices\n",
        "### Triangular Matrix:"
      ]
    },
    {
      "cell_type": "code",
      "execution_count": null,
      "metadata": {
        "colab": {
          "base_uri": "https://localhost:8080/"
        },
        "id": "KRjJ6jnN2Sp6",
        "outputId": "ee7473d1-5b6d-4888-c8b1-cdc8e61dab3d"
      },
      "outputs": [
        {
          "output_type": "stream",
          "name": "stdout",
          "text": [
            "M: \n",
            "[[1 2 3]\n",
            " [1 2 3]\n",
            " [1 2 3]]\n",
            "\n",
            "lower: \n",
            "[[1 0 0]\n",
            " [1 2 0]\n",
            " [1 2 3]]\n",
            "\n",
            "upper: \n",
            "[[1 2 3]\n",
            " [0 2 3]\n",
            " [0 0 3]]\n"
          ]
        }
      ],
      "source": [
        "from numpy import array\n",
        "from numpy import tril\n",
        "from numpy import triu\n",
        "\n",
        "M = array([[1, 2, 3],\n",
        "          [1, 2, 3],\n",
        "          [1, 2, 3]])\n",
        "print(f\"M: \\n{M}\\n\")\n",
        "\n",
        "lower = tril(M)\n",
        "print(f\"lower: \\n{lower}\\n\")\n",
        "\n",
        "upper = triu(M)\n",
        "print(f\"upper: \\n{upper}\")"
      ]
    },
    {
      "cell_type": "markdown",
      "metadata": {
        "id": "tqB2_zaw2Sp7"
      },
      "source": [
        "### Diagonal Matrix:"
      ]
    },
    {
      "cell_type": "code",
      "execution_count": null,
      "metadata": {
        "colab": {
          "base_uri": "https://localhost:8080/"
        },
        "id": "1lL-21_v2Sp8",
        "outputId": "c06af7f1-fdc3-4931-a821-daa54b664191"
      },
      "outputs": [
        {
          "output_type": "stream",
          "name": "stdout",
          "text": [
            "diag(M): [1 2 3]\n",
            "\n",
            "Diagonal Matrix: \n",
            "[[1 0 0]\n",
            " [0 2 0]\n",
            " [0 0 3]]\n"
          ]
        }
      ],
      "source": [
        "from numpy import diag\n",
        "\n",
        "d = diag(M)\n",
        "print(f\"diag(M): {d}\\n\")\n",
        "\n",
        "D = diag(d)\n",
        "print(f\"Diagonal Matrix: \\n{D}\")"
      ]
    },
    {
      "cell_type": "markdown",
      "metadata": {
        "id": "mrTBkIi82Sp8"
      },
      "source": [
        "### Identity Matrix:"
      ]
    },
    {
      "cell_type": "code",
      "execution_count": null,
      "metadata": {
        "colab": {
          "base_uri": "https://localhost:8080/"
        },
        "id": "-ZgOehil2Sp8",
        "outputId": "5bb91eb7-744a-4d0e-dbee-5cfbaf30634b"
      },
      "outputs": [
        {
          "output_type": "stream",
          "name": "stdout",
          "text": [
            "I: \n",
            "[[1. 0. 0.]\n",
            " [0. 1. 0.]\n",
            " [0. 0. 1.]]\n"
          ]
        }
      ],
      "source": [
        "from numpy import identity\n",
        "\n",
        "I = identity(3)\n",
        "print(f\"I: \\n{I}\")"
      ]
    },
    {
      "cell_type": "markdown",
      "metadata": {
        "id": "xSWfKTDx2Sp9"
      },
      "source": [
        "### Orthogonal Matrix:"
      ]
    },
    {
      "cell_type": "code",
      "execution_count": null,
      "metadata": {
        "colab": {
          "base_uri": "https://localhost:8080/"
        },
        "id": "cB2lMCRw2Sp9",
        "outputId": "bad3979e-007d-4179-dd0a-44b207630932"
      },
      "outputs": [
        {
          "output_type": "stream",
          "name": "stdout",
          "text": [
            "Q: \n",
            "[[ 1  0]\n",
            " [ 0 -1]]\n",
            "\n",
            "Q.T: \n",
            "[[ 1  0]\n",
            " [ 0 -1]]\n",
            "\n",
            "V: \n",
            "[[ 1.  0.]\n",
            " [-0. -1.]]\n",
            "\n",
            "I: \n",
            "[[1 0]\n",
            " [0 1]]\n"
          ]
        }
      ],
      "source": [
        "from numpy.linalg import inv\n",
        "\n",
        "Q = array([[1, 0],\n",
        "           [0, -1]])\n",
        "print(f\"Q: \\n{Q}\\n\")\n",
        "\n",
        "# inverse equivalence\n",
        "V = inv(Q)\n",
        "print(f\"Q.T: \\n{Q.T}\\n\")\n",
        "print(f\"V: \\n{V}\\n\")\n",
        "\n",
        "# identity equivalence\n",
        "I = Q.dot(Q.T)\n",
        "print(f\"I: \\n{I}\")"
      ]
    }
  ],
  "metadata": {
    "kernelspec": {
      "display_name": "PyCharm (ML-Deep-Practices)",
      "language": "python",
      "name": "pycharm-f0b42db8"
    },
    "language_info": {
      "codemirror_mode": {
        "name": "ipython",
        "version": 3
      },
      "file_extension": ".py",
      "mimetype": "text/x-python",
      "name": "python",
      "nbconvert_exporter": "python",
      "pygments_lexer": "ipython3",
      "version": "3.7.5"
    },
    "colab": {
      "provenance": [],
      "include_colab_link": true
    }
  },
  "nbformat": 4,
  "nbformat_minor": 0
}