{
  "cells": [
    {
      "cell_type": "markdown",
      "metadata": {
        "id": "view-in-github",
        "colab_type": "text"
      },
      "source": [
        "<a href=\"https://colab.research.google.com/github/forhigh/numerical_geotech_graduate/blob/main/Mat_algebra_04.ipynb\" target=\"_parent\"><img src=\"https://colab.research.google.com/assets/colab-badge.svg\" alt=\"Open In Colab\"/></a>"
      ]
    },
    {
      "cell_type": "markdown",
      "source": [
        "## Vectors and Vector Arithmetic\n",
        "### Defining a vector:"
      ],
      "metadata": {
        "collapsed": false,
        "id": "mXho4r6D0O41"
      }
    },
    {
      "cell_type": "code",
      "execution_count": null,
      "outputs": [
        {
          "output_type": "stream",
          "name": "stdout",
          "text": [
            "v: [1 2 3]\n"
          ]
        }
      ],
      "source": [
        "import numpy as np\n",
        "\n",
        "# define vector\n",
        "v = np.array([1, 2, 3])\n",
        "print(f\"v: {v}\")"
      ],
      "metadata": {
        "pycharm": {
          "name": "#%%\n",
          "is_executing": false
        },
        "colab": {
          "base_uri": "https://localhost:8080/"
        },
        "id": "T1yq1Evh0O43",
        "outputId": "c57a5c76-f33e-4c29-9c72-77ab05139c59"
      }
    },
    {
      "cell_type": "markdown",
      "source": [
        "### Vector addition:"
      ],
      "metadata": {
        "collapsed": false,
        "id": "EHXsyAZZ0O44"
      }
    },
    {
      "cell_type": "code",
      "execution_count": null,
      "outputs": [
        {
          "output_type": "stream",
          "name": "stdout",
          "text": [
            "a = [1 2 3]\n",
            "\n",
            "b = [1 2 3]\n",
            "\n",
            "c = [2 4 6]\n",
            "\n"
          ]
        }
      ],
      "source": [
        "a = np.array([1, 2, 3])\n",
        "print(f\"a = {a}\\n\")\n",
        "\n",
        "b = np.array([1, 2, 3])\n",
        "print(f\"b = {b}\\n\")\n",
        "\n",
        "c = a + b\n",
        "print(f\"c = {c}\\n\")"
      ],
      "metadata": {
        "pycharm": {
          "name": "#%%\n",
          "is_executing": false
        },
        "colab": {
          "base_uri": "https://localhost:8080/"
        },
        "id": "fln_SBao0O45",
        "outputId": "283ab331-2658-4583-c640-dc82b1216364"
      }
    },
    {
      "cell_type": "markdown",
      "source": [
        "### Vector subtraction"
      ],
      "metadata": {
        "collapsed": false,
        "id": "Oi1z7DWl0O45"
      }
    },
    {
      "cell_type": "code",
      "execution_count": null,
      "outputs": [
        {
          "output_type": "stream",
          "name": "stdout",
          "text": [
            "b = [0.5 0.5 0.5]\n",
            "\n",
            "c = [0.5 1.5 2.5]\n"
          ]
        }
      ],
      "source": [
        "b = np.array([0.5, 0.5, 0.5])\n",
        "print(f\"b = {b}\\n\")\n",
        "\n",
        "c = a - b\n",
        "print(f\"c = {c}\")"
      ],
      "metadata": {
        "pycharm": {
          "name": "#%%\n",
          "is_executing": false
        },
        "colab": {
          "base_uri": "https://localhost:8080/"
        },
        "id": "g05BIKkQ0O45",
        "outputId": "35bb72d4-1ecd-4fb1-b446-bf1c83608185"
      }
    },
    {
      "cell_type": "markdown",
      "source": [
        "### Vector multiplication:"
      ],
      "metadata": {
        "collapsed": false,
        "pycharm": {
          "name": "#%% md\n"
        },
        "id": "aO7tI2KT0O46"
      }
    },
    {
      "cell_type": "code",
      "execution_count": null,
      "outputs": [
        {
          "output_type": "stream",
          "name": "stdout",
          "text": [
            "a = [1 2 3]\n",
            "\n",
            "b = [1 2 3]\n",
            "\n",
            "c = [1 4 9]\n",
            "\n"
          ]
        }
      ],
      "source": [
        "a = np.array([1, 2, 3])\n",
        "print(f\"a = {a}\\n\")\n",
        "\n",
        "b = np.array([1, 2, 3])\n",
        "print(f\"b = {b}\\n\")\n",
        "\n",
        "\n",
        "c = a * b\n",
        "print(f\"c = {c}\\n\")"
      ],
      "metadata": {
        "pycharm": {
          "name": "#%%\n",
          "is_executing": false
        },
        "colab": {
          "base_uri": "https://localhost:8080/"
        },
        "id": "U41pU_bb0O46",
        "outputId": "edc775d4-c7ba-487a-8ccf-bdf77748d911"
      }
    },
    {
      "cell_type": "markdown",
      "source": [
        "### Vector division:"
      ],
      "metadata": {
        "collapsed": false,
        "id": "p16aFy0o0O46"
      }
    },
    {
      "cell_type": "code",
      "execution_count": null,
      "outputs": [
        {
          "output_type": "stream",
          "name": "stdout",
          "text": [
            "c = [1. 1. 1.]\n"
          ]
        }
      ],
      "source": [
        "c = a / b\n",
        "print(f\"c = {c}\")"
      ],
      "metadata": {
        "pycharm": {
          "name": "#%%\n",
          "is_executing": false
        },
        "colab": {
          "base_uri": "https://localhost:8080/"
        },
        "id": "rVcmIPuH0O47",
        "outputId": "68a79274-460b-4693-ff80-0137e8b00894"
      }
    },
    {
      "cell_type": "markdown",
      "source": [
        "### Vector dot product:"
      ],
      "metadata": {
        "collapsed": false,
        "id": "ooAbRmOd0O47"
      }
    },
    {
      "cell_type": "code",
      "execution_count": null,
      "outputs": [
        {
          "output_type": "stream",
          "name": "stdout",
          "text": [
            "c = 14\n"
          ]
        }
      ],
      "source": [
        "c = a.dot(b)\n",
        "print(f\"c = {c}\")"
      ],
      "metadata": {
        "pycharm": {
          "name": "#%%\n",
          "is_executing": false
        },
        "colab": {
          "base_uri": "https://localhost:8080/"
        },
        "id": "gb4T6L-O0O47",
        "outputId": "af160198-6611-41e2-adbf-d73b46cb8391"
      }
    },
    {
      "cell_type": "markdown",
      "source": [
        "### Vector-scalar multiplication:"
      ],
      "metadata": {
        "collapsed": false,
        "pycharm": {
          "name": "#%% md\n"
        },
        "id": "VvSV6OeZ0O48"
      }
    },
    {
      "cell_type": "code",
      "execution_count": null,
      "outputs": [
        {
          "output_type": "stream",
          "name": "stdout",
          "text": [
            "a = [2 4 6]\n",
            "\n",
            "scalar s = 0.5\n",
            "\n",
            "c = [1. 2. 3.]\n"
          ]
        }
      ],
      "source": [
        "a = np.array([2, 4, 6])\n",
        "print(f\"a = {a}\\n\")\n",
        "\n",
        "s = 0.5\n",
        "print(f\"scalar s = {s}\\n\")\n",
        "\n",
        "c = s * a\n",
        "print(f\"c = {c}\")\n"
      ],
      "metadata": {
        "pycharm": {
          "name": "#%%\n",
          "is_executing": false
        },
        "colab": {
          "base_uri": "https://localhost:8080/"
        },
        "id": "MgnwirtD0O48",
        "outputId": "1d458a72-c7cd-46af-baea-db98a14bc198"
      }
    }
  ],
  "metadata": {
    "kernelspec": {
      "name": "pycharm-f0b42db8",
      "language": "python",
      "display_name": "PyCharm (ML-Deep-Practices)"
    },
    "language_info": {
      "codemirror_mode": {
        "name": "ipython",
        "version": 2
      },
      "file_extension": ".py",
      "mimetype": "text/x-python",
      "name": "python",
      "nbconvert_exporter": "python",
      "pygments_lexer": "ipython2",
      "version": "2.7.6"
    },
    "pycharm": {
      "stem_cell": {
        "cell_type": "raw",
        "source": [],
        "metadata": {
          "collapsed": false
        }
      }
    },
    "colab": {
      "provenance": [],
      "include_colab_link": true
    }
  },
  "nbformat": 4,
  "nbformat_minor": 0
}