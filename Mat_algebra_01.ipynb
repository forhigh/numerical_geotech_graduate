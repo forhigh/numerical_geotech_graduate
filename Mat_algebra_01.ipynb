{
  "cells": [
    {
      "cell_type": "markdown",
      "metadata": {
        "id": "view-in-github",
        "colab_type": "text"
      },
      "source": [
        "<a href=\"https://colab.research.google.com/github/forhigh/numerical_geotech_graduate/blob/main/Mat_algebra_01.ipynb\" target=\"_parent\"><img src=\"https://colab.research.google.com/assets/colab-badge.svg\" alt=\"Open In Colab\"/></a>"
      ]
    },
    {
      "cell_type": "markdown",
      "metadata": {
        "collapsed": true,
        "pycharm": {
          "is_executing": false,
          "name": "#%% md\n"
        },
        "id": "EBFMN6AhzZXz"
      },
      "source": [
        "## Introduction to Numpy Arrays"
      ]
    },
    {
      "cell_type": "markdown",
      "source": [
        "### Importing Numpy"
      ],
      "metadata": {
        "collapsed": false,
        "pycharm": {
          "name": "#%% md\n"
        },
        "id": "nOZiW8jLzZX2"
      }
    },
    {
      "cell_type": "code",
      "execution_count": null,
      "outputs": [],
      "source": [
        "import numpy as np"
      ],
      "metadata": {
        "pycharm": {
          "name": "#%%\n",
          "is_executing": false
        },
        "id": "S13qHJaizZX2"
      }
    },
    {
      "cell_type": "markdown",
      "source": [
        "### Creating an array"
      ],
      "metadata": {
        "collapsed": false,
        "pycharm": {
          "name": "#%% md\n"
        },
        "id": "OV86vJ95zZX3"
      }
    },
    {
      "cell_type": "code",
      "execution_count": null,
      "outputs": [],
      "source": [
        "l = [1.0, 2.0, 3.0]\n",
        "a = np.array(l)"
      ],
      "metadata": {
        "pycharm": {
          "name": "#%%\n",
          "is_executing": false
        },
        "id": "ddK-916-zZX3"
      }
    },
    {
      "cell_type": "markdown",
      "source": [
        "### Displaying array"
      ],
      "metadata": {
        "collapsed": false,
        "pycharm": {
          "name": "#%% md\n"
        },
        "id": "_1pDEtpxzZX3"
      }
    },
    {
      "cell_type": "code",
      "execution_count": null,
      "outputs": [
        {
          "output_type": "stream",
          "name": "stdout",
          "text": [
            "a: [1. 2. 3.]\n"
          ]
        }
      ],
      "source": [
        "print(f\"a: {a}\")"
      ],
      "metadata": {
        "pycharm": {
          "name": "#%%\n",
          "is_executing": false
        },
        "id": "byZIj1rJzZX4",
        "outputId": "746b91bb-04f0-4876-8dfd-756096d920e7",
        "colab": {
          "base_uri": "https://localhost:8080/"
        }
      }
    },
    {
      "cell_type": "markdown",
      "source": [
        "### Functions to Create Arrays\n",
        "### Empty:"
      ],
      "metadata": {
        "collapsed": false,
        "pycharm": {
          "name": "#%% md\n"
        },
        "id": "vx-1rCYAzZX4"
      }
    },
    {
      "cell_type": "code",
      "execution_count": null,
      "outputs": [
        {
          "output_type": "stream",
          "name": "stdout",
          "text": [
            "b: \n",
            "[[1.63527666e-316 0.00000000e+000 7.90505033e-323]\n",
            " [1.65310887e-316 0.00000000e+000 0.00000000e+000]\n",
            " [9.88131292e-324 0.00000000e+000 3.95252517e-322]]\n"
          ]
        }
      ],
      "source": [
        "b = np.empty([3, 3])\n",
        "print(f\"b: \\n{b}\")"
      ],
      "metadata": {
        "pycharm": {
          "name": "#%%\n",
          "is_executing": false
        },
        "id": "k_P3YL0CzZX5",
        "outputId": "4b9d3335-1519-4750-8e37-acc7263d50b9",
        "colab": {
          "base_uri": "https://localhost:8080/"
        }
      }
    },
    {
      "cell_type": "markdown",
      "source": [
        "### Zeros:"
      ],
      "metadata": {
        "collapsed": false,
        "pycharm": {
          "name": "#%% md\n"
        },
        "id": "Ol8lNsDmzZX5"
      }
    },
    {
      "cell_type": "code",
      "execution_count": null,
      "outputs": [
        {
          "output_type": "stream",
          "name": "stdout",
          "text": [
            "c: \n",
            "[[0. 0. 0. 0. 0.]\n",
            " [0. 0. 0. 0. 0.]\n",
            " [0. 0. 0. 0. 0.]]\n"
          ]
        }
      ],
      "source": [
        "c = np.zeros([3, 5])\n",
        "print(f\"c: \\n{c}\")"
      ],
      "metadata": {
        "pycharm": {
          "name": "#%%\n",
          "is_executing": false
        },
        "id": "nT8WlDgrzZX5",
        "outputId": "3cf8c006-c418-43c7-9f81-dc50b4ccc7ba",
        "colab": {
          "base_uri": "https://localhost:8080/"
        }
      }
    },
    {
      "cell_type": "markdown",
      "source": [
        "### Ones:"
      ],
      "metadata": {
        "collapsed": false,
        "pycharm": {
          "name": "#%% md\n"
        },
        "id": "muqrTz7QzZX5"
      }
    },
    {
      "cell_type": "code",
      "execution_count": null,
      "outputs": [
        {
          "output_type": "stream",
          "name": "stdout",
          "text": [
            "d: [1. 1. 1. 1. 1.]\n"
          ]
        }
      ],
      "source": [
        "d = np.ones([5])\n",
        "print(f\"d: {d}\")"
      ],
      "metadata": {
        "pycharm": {
          "name": "#%%\n",
          "is_executing": false
        },
        "id": "GVZbeWyozZX6",
        "outputId": "ad507f3d-2c01-4537-cb8d-216cb75b2ba8",
        "colab": {
          "base_uri": "https://localhost:8080/"
        }
      }
    },
    {
      "cell_type": "markdown",
      "source": [
        "### Combining Arrays\n",
        "### Vertical Stack:"
      ],
      "metadata": {
        "collapsed": false,
        "pycharm": {
          "name": "#%% md\n",
          "is_executing": false
        },
        "id": "6VGS-LQOzZX6"
      }
    },
    {
      "cell_type": "code",
      "execution_count": null,
      "outputs": [
        {
          "output_type": "stream",
          "name": "stdout",
          "text": [
            "a1: [1 2 3]\n",
            "\n",
            "a2: [4 5 6]\n"
          ]
        }
      ],
      "source": [
        "a1 = np.array([1, 2, 3])\n",
        "print(f\"a1: {a1}\\n\")\n",
        "\n",
        "a2 = np.array([4, 5, 6])\n",
        "print(f\"a2: {a2}\")"
      ],
      "metadata": {
        "pycharm": {
          "name": "#%%\n",
          "is_executing": false
        },
        "id": "wM19wNPdzZX6",
        "outputId": "9cdf374a-db0a-4e92-f7bb-e2a7b7ae7720",
        "colab": {
          "base_uri": "https://localhost:8080/"
        }
      }
    },
    {
      "cell_type": "code",
      "execution_count": null,
      "outputs": [
        {
          "output_type": "stream",
          "name": "stdout",
          "text": [
            "a3: \n",
            "[[1 2 3]\n",
            " [4 5 6]]\n",
            "\n",
            "a3.shape: (2, 3)\n"
          ]
        }
      ],
      "source": [
        "a3 = np.vstack((a1, a2))\n",
        "print(f\"a3: \\n{a3}\\n\")\n",
        "\n",
        "print(f\"a3.shape: {a3.shape}\")"
      ],
      "metadata": {
        "pycharm": {
          "name": "#%%\n",
          "is_executing": false
        },
        "id": "vs2A-XbgzZX6",
        "outputId": "13cda01f-bead-4144-9055-f88a5ffc4924",
        "colab": {
          "base_uri": "https://localhost:8080/"
        }
      }
    },
    {
      "cell_type": "markdown",
      "source": [
        "### Horizontal Stack:"
      ],
      "metadata": {
        "collapsed": false,
        "pycharm": {
          "name": "#%% md\n"
        },
        "id": "ikd75BGAzZX6"
      }
    },
    {
      "cell_type": "code",
      "execution_count": null,
      "outputs": [
        {
          "output_type": "stream",
          "name": "stdout",
          "text": [
            "a4: [1 2 3]\n",
            "\n",
            "a4: [1 2 3]\n",
            "\n",
            "a6: [1 2 3 4 5 6]\n",
            "\n",
            "a6.shape: (6,)\n"
          ]
        }
      ],
      "source": [
        "a4 = np.array([1, 2, 3])\n",
        "print(f\"a4: {a4}\\n\")\n",
        "\n",
        "a5 = np.array([4, 5, 6])\n",
        "print(f\"a4: {a4}\\n\")\n",
        "\n",
        "\n",
        "# create horizontal stack\n",
        "a6 = np.hstack((a4, a5))\n",
        "print(f\"a6: {a6}\\n\")\n",
        "\n",
        "print(f\"a6.shape: {a6.shape}\")\n"
      ],
      "metadata": {
        "pycharm": {
          "name": "#%%\n",
          "is_executing": false
        },
        "id": "v2SvIBsuzZX7",
        "outputId": "370a6a44-2ff1-45ea-86af-d5f3749c3eed",
        "colab": {
          "base_uri": "https://localhost:8080/"
        }
      }
    }
  ],
  "metadata": {
    "kernelspec": {
      "name": "pycharm-f0b42db8",
      "language": "python",
      "display_name": "PyCharm (ML-Deep-Practices)"
    },
    "language_info": {
      "codemirror_mode": {
        "name": "ipython",
        "version": 2
      },
      "file_extension": ".py",
      "mimetype": "text/x-python",
      "name": "python",
      "nbconvert_exporter": "python",
      "pygments_lexer": "ipython2",
      "version": "2.7.6"
    },
    "pycharm": {
      "stem_cell": {
        "cell_type": "raw",
        "source": [],
        "metadata": {
          "collapsed": false
        }
      }
    },
    "colab": {
      "provenance": [],
      "include_colab_link": true
    }
  },
  "nbformat": 4,
  "nbformat_minor": 0
}