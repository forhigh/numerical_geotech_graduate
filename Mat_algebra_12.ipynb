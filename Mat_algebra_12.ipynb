{
  "cells": [
    {
      "cell_type": "markdown",
      "metadata": {
        "id": "view-in-github",
        "colab_type": "text"
      },
      "source": [
        "<a href=\"https://colab.research.google.com/github/forhigh/numerical_geotech_graduate/blob/main/Mat_algebra_12.ipynb\" target=\"_parent\"><img src=\"https://colab.research.google.com/assets/colab-badge.svg\" alt=\"Open In Colab\"/></a>"
      ]
    },
    {
      "cell_type": "markdown",
      "metadata": {
        "id": "7ouJQfar-jT5"
      },
      "source": [
        "## Eigen Decomposition\n",
        "### Calculation of Eigendecomposition:\n",
        "    An eigendecomposition is calculated on a square matrix using an efficient\n",
        "    iterative algorithm, of which we will not go into the details. Often an \n",
        "    eigenvalue is found first, then an eigenvector is found to solve the \n",
        "    equation as a set of coefficients."
      ]
    },
    {
      "cell_type": "code",
      "execution_count": null,
      "metadata": {
        "colab": {
          "base_uri": "https://localhost:8080/"
        },
        "id": "aIwxSBi0-jT8",
        "outputId": "936d9db2-8041-4960-d234-369b5fcdb21f"
      },
      "outputs": [
        {
          "output_type": "stream",
          "name": "stdout",
          "text": [
            "A: \n",
            "[[1 2 3]\n",
            " [4 5 6]\n",
            " [7 8 9]]\n",
            "\n",
            "values: [ 1.61168440e+01 -1.11684397e+00 -1.30367773e-15]\n",
            "\n",
            "vectors: \n",
            "[[-0.23197069 -0.78583024  0.40824829]\n",
            " [-0.52532209 -0.08675134 -0.81649658]\n",
            " [-0.8186735   0.61232756  0.40824829]]\n"
          ]
        }
      ],
      "source": [
        "from numpy import array\n",
        "from numpy.linalg import eig\n",
        "\n",
        "# define a square matrix\n",
        "A = array([[1, 2, 3],\n",
        "           [4, 5, 6],\n",
        "           [7, 8, 9]])\n",
        "print(f\"A: \\n{A}\\n\")\n",
        "\n",
        "#factorize\n",
        "values, vectors = eig(A)\n",
        "print(f\"values: {values}\\n\")\n",
        "print(f\"vectors: \\n{vectors}\")"
      ]
    },
    {
      "cell_type": "markdown",
      "metadata": {
        "id": "UW2dqP4W-jT9"
      },
      "source": [
        "### Confirm an Eigenvalue and Eigenvector:\n",
        "    The eigenvectors are returned as a matrix with the same dimensions as the \n",
        "    parent matrix, where each column is an eigenvector, e.g. the first \n",
        "    eigenvector is vectors[:, 0]. Eigenvalues are returned as a list, where\n",
        "    value indices in the returned array are paired with eigenvectors by \n",
        "    column index, e.g. the first eigenvalue at values[0] is paired with the \n",
        "    first eigenvector at vectors[:, 0]."
      ]
    },
    {
      "cell_type": "code",
      "execution_count": null,
      "metadata": {
        "colab": {
          "base_uri": "https://localhost:8080/"
        },
        "id": "GgwI673u-jT9",
        "outputId": "c101dd09-c63a-4763-adcf-168dbe152631"
      },
      "outputs": [
        {
          "output_type": "stream",
          "name": "stdout",
          "text": [
            "A: \n",
            "[[1 2 3]\n",
            " [4 5 6]\n",
            " [7 8 9]]\n",
            "\n",
            "B: [ -3.73863537  -8.46653421 -13.19443305]\n",
            "\n",
            "C: [ -3.73863537  -8.46653421 -13.19443305]\n"
          ]
        }
      ],
      "source": [
        "from numpy import array\n",
        "from numpy.linalg import eig\n",
        "\n",
        "A = array([[1, 2, 3],\n",
        "           [4, 5, 6],\n",
        "           [7, 8, 9]])\n",
        "print(f\"A: \\n{A}\\n\")\n",
        "\n",
        "# factorize\n",
        "values, vectors = eig(A)\n",
        "\n",
        "# confirm first eigenvector\n",
        "B = A.dot(vectors[:, 0])\n",
        "print(f\"B: {B}\\n\")\n",
        "\n",
        "C = vectors[:, 0] * values[0]\n",
        "print(f\"C: {C}\")"
      ]
    },
    {
      "cell_type": "markdown",
      "metadata": {
        "id": "8Sxiu1aU-jT-"
      },
      "source": [
        "### Reconstruct Matrix:\n",
        "    We can reverse the process and reconstruct the original matrix given \n",
        "    only the eigenvectors and eigenvalues. First, the list of eigenvectors\n",
        "    must be taken together as a matrix, where each vector becomes a row. \n",
        "    The eigenvalues need to be arranged into a diagonal matrix. The NumPy \n",
        "    diag() function can be used for this. Next, we need to calculate the \n",
        "    inverse of the eigenvector matrix, which we can achieve with the inv() \n",
        "    NumPy function. Finally, these elements need to be multiplied together \n",
        "    with the dot() function."
      ]
    },
    {
      "cell_type": "code",
      "execution_count": null,
      "metadata": {
        "colab": {
          "base_uri": "https://localhost:8080/"
        },
        "id": "ZOUodxJ3-jT-",
        "outputId": "71e4dc96-8ee5-4940-a4e1-4863165e2e2d"
      },
      "outputs": [
        {
          "output_type": "stream",
          "name": "stdout",
          "text": [
            "A: \n",
            "[[1 2 3]\n",
            " [4 5 6]\n",
            " [7 8 9]]\n",
            "\n",
            "B: \n",
            "[[1. 2. 3.]\n",
            " [4. 5. 6.]\n",
            " [7. 8. 9.]]\n"
          ]
        }
      ],
      "source": [
        "# reconstruct matrix\n",
        "from numpy import diag, array\n",
        "from numpy.linalg import inv, eig\n",
        "\n",
        "# define matrix\n",
        "A = array([[1, 2, 3],\n",
        "           [4, 5, 6],\n",
        "           [7, 8, 9]])\n",
        "print(f\"A: \\n{A}\\n\")\n",
        "\n",
        "# factorize\n",
        "values, vectors = eig(A)\n",
        "\n",
        "# create matrix from eigenvectors\n",
        "Q = vectors\n",
        "\n",
        "# create inverse of eigenvectors matrix\n",
        "R = inv(Q)\n",
        "\n",
        "# create diagonal matrix from eigenvalues\n",
        "L = diag(values)\n",
        "\n",
        "# reconstruct the original matrix\n",
        "B = Q.dot(L).dot(R)\n",
        "print(f\"B: \\n{B}\")"
      ]
    },
    {
      "cell_type": "markdown",
      "metadata": {
        "id": "ZHriQ2x-A0WP"
      },
      "source": [
        "### Example for Principle Stresses:\n",
        "A stress state in 3D space is defined. The principle stresses and corresponding unit normals are evaluated."
      ]
    },
    {
      "cell_type": "code",
      "source": [
        "# define a 3D stress state\n",
        "sig = array([[2, 1, 1],\n",
        "           [1, 3, 1],\n",
        "           [1, 1, 1]])\n",
        "print(f\"sig = \\n{sig}\\n\")\n",
        "\n",
        "#factorize\n",
        "lambda_val, n_vectors = eig(sig)\n",
        "print(f\"lambda_val = {lambda_val}\\n\")\n",
        "print(f\"n_vectors = \\n{n_vectors}\")"
      ],
      "metadata": {
        "colab": {
          "base_uri": "https://localhost:8080/"
        },
        "id": "5DI6WN_P_0kS",
        "outputId": "dc7e890e-93e7-4f13-9a5a-01a62dc51628"
      },
      "execution_count": null,
      "outputs": [
        {
          "output_type": "stream",
          "name": "stdout",
          "text": [
            "sig = \n",
            "[[2 1 1]\n",
            " [1 3 1]\n",
            " [1 1 1]]\n",
            "\n",
            "lambda_val = [4.21431974 1.46081113 0.32486913]\n",
            "\n",
            "n_vectors = \n",
            "[[-0.52065737 -0.73923874 -0.42713229]\n",
            " [-0.75578934  0.63178128 -0.17214786]\n",
            " [-0.39711255 -0.23319198  0.88765034]]\n"
          ]
        }
      ]
    },
    {
      "cell_type": "markdown",
      "source": [
        "Reconstruct principle stresses."
      ],
      "metadata": {
        "id": "3sYIZn9NCfOl"
      }
    },
    {
      "cell_type": "code",
      "source": [
        "re_sig=(n_vectors.T).dot(sig).dot(n_vectors)\n",
        "print(f\"re_sig = \\n{re_sig}\")"
      ],
      "metadata": {
        "colab": {
          "base_uri": "https://localhost:8080/"
        },
        "id": "fFc_-N_bAKUa",
        "outputId": "0a4a430a-a879-4a5e-809c-77d81f33e8d8"
      },
      "execution_count": null,
      "outputs": [
        {
          "output_type": "stream",
          "name": "stdout",
          "text": [
            "re_sig = \n",
            "[[ 4.21431974e+00  8.18472522e-16 -1.33016898e-16]\n",
            " [ 6.78974907e-16  1.46081113e+00  5.04206567e-16]\n",
            " [-2.14488225e-16  4.61728511e-16  3.24869129e-01]]\n"
          ]
        }
      ]
    }
  ],
  "metadata": {
    "kernelspec": {
      "display_name": "PyCharm (numpy_and_algebra)",
      "language": "python",
      "name": "pycharm-34aae690"
    },
    "language_info": {
      "codemirror_mode": {
        "name": "ipython",
        "version": 3
      },
      "file_extension": ".py",
      "mimetype": "text/x-python",
      "name": "python",
      "nbconvert_exporter": "python",
      "pygments_lexer": "ipython3",
      "version": "3.8.1"
    },
    "colab": {
      "provenance": [],
      "toc_visible": true,
      "include_colab_link": true
    }
  },
  "nbformat": 4,
  "nbformat_minor": 0
}