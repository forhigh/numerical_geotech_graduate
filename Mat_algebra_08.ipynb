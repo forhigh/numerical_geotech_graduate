{
  "cells": [
    {
      "cell_type": "markdown",
      "metadata": {
        "id": "view-in-github",
        "colab_type": "text"
      },
      "source": [
        "<a href=\"https://colab.research.google.com/github/forhigh/numerical_geotech_graduate/blob/main/Mat_algebra_08.ipynb\" target=\"_parent\"><img src=\"https://colab.research.google.com/assets/colab-badge.svg\" alt=\"Open In Colab\"/></a>"
      ]
    },
    {
      "cell_type": "markdown",
      "metadata": {
        "id": "HLt8ZyPa5F0t"
      },
      "source": [
        "## Matrix Operations\n",
        "### Transpose:"
      ]
    },
    {
      "cell_type": "code",
      "execution_count": null,
      "metadata": {
        "id": "RVXh7SVS5F0v",
        "outputId": "b9d77cdf-f0f5-4da8-e4bf-4e6fc616a8d6",
        "colab": {
          "base_uri": "https://localhost:8080/"
        }
      },
      "outputs": [
        {
          "output_type": "stream",
          "name": "stdout",
          "text": [
            "A: \n",
            "[[1 2]\n",
            " [3 4]\n",
            " [5 6]]\n",
            "\n",
            "C: \n",
            "[[1 3 5]\n",
            " [2 4 6]]\n"
          ]
        }
      ],
      "source": [
        "from numpy import array\n",
        "\n",
        "A = array([[1, 2],\n",
        "           [3, 4],\n",
        "           [5, 6]])\n",
        "print(f\"A: \\n{A}\\n\")\n",
        "\n",
        "C = A.T\n",
        "print(f\"C: \\n{C}\")"
      ]
    },
    {
      "cell_type": "markdown",
      "metadata": {
        "id": "DiYa78D85F0x"
      },
      "source": [
        "### Inverse:"
      ]
    },
    {
      "cell_type": "code",
      "execution_count": null,
      "metadata": {
        "scrolled": true,
        "id": "uTymt4i15F0x",
        "outputId": "7c559657-ea0a-4b24-f0bd-1a788364c5ca",
        "colab": {
          "base_uri": "https://localhost:8080/"
        }
      },
      "outputs": [
        {
          "output_type": "stream",
          "name": "stdout",
          "text": [
            "A: \n",
            "[[1. 2.]\n",
            " [3. 4.]]\n",
            "\n",
            "B: \n",
            "[[-2.   1. ]\n",
            " [ 1.5 -0.5]]\n",
            "\n",
            "I: \n",
            "[[1.0000000e+00 0.0000000e+00]\n",
            " [8.8817842e-16 1.0000000e+00]]\n"
          ]
        }
      ],
      "source": [
        "from numpy.linalg import inv\n",
        "\n",
        "A = array([[1.0, 2.0],\n",
        "           [3.0, 4.0]])\n",
        "print(f\"A: \\n{A}\\n\")\n",
        "\n",
        "B = inv(A)\n",
        "print(f\"B: \\n{B}\\n\")\n",
        "\n",
        "I = A.dot(B)\n",
        "print(f\"I: \\n{I}\")"
      ]
    },
    {
      "cell_type": "markdown",
      "metadata": {
        "id": "maUDum_I5F0x"
      },
      "source": [
        "### Trace:"
      ]
    },
    {
      "cell_type": "code",
      "execution_count": null,
      "metadata": {
        "scrolled": true,
        "id": "w18rGXwg5F0y",
        "outputId": "a8429eea-bf00-4a98-ea5f-5d5c431d61db",
        "colab": {
          "base_uri": "https://localhost:8080/"
        }
      },
      "outputs": [
        {
          "output_type": "stream",
          "name": "stdout",
          "text": [
            "A: \n",
            "[[1 2 3]\n",
            " [4 5 6]\n",
            " [7 8 9]]\n",
            "\n",
            "B: 15\n"
          ]
        }
      ],
      "source": [
        "from numpy import trace\n",
        "\n",
        "A = array([[1, 2, 3],\n",
        "           [4, 5, 6],\n",
        "           [7, 8, 9]])\n",
        "print(f\"A: \\n{A}\\n\")\n",
        "\n",
        "B = trace(A)\n",
        "print(f\"B: {B}\")"
      ]
    },
    {
      "cell_type": "markdown",
      "metadata": {
        "id": "Ey3LF0JE5F0y"
      },
      "source": [
        "### Determinant:"
      ]
    },
    {
      "cell_type": "code",
      "execution_count": null,
      "metadata": {
        "id": "eTzG9g3g5F0y",
        "outputId": "67d0afa1-0fea-4532-ab57-bac8900599ab",
        "colab": {
          "base_uri": "https://localhost:8080/"
        }
      },
      "outputs": [
        {
          "output_type": "stream",
          "name": "stdout",
          "text": [
            "determinant: 0.0\n"
          ]
        }
      ],
      "source": [
        "from numpy.linalg import det\n",
        "\n",
        "B = det(A)\n",
        "print(f\"determinant: {B}\")"
      ]
    },
    {
      "cell_type": "markdown",
      "metadata": {
        "id": "vIeHKo8X5F0z"
      },
      "source": [
        "## Rank\n",
        "### Vector Rank:"
      ]
    },
    {
      "cell_type": "code",
      "execution_count": null,
      "metadata": {
        "id": "iGlXiY_f5F0z",
        "outputId": "1cd8b93c-242c-4dc6-885b-2466efe32125",
        "colab": {
          "base_uri": "https://localhost:8080/"
        }
      },
      "outputs": [
        {
          "output_type": "stream",
          "name": "stdout",
          "text": [
            "v1: [1 2 3]\n",
            "\n",
            "rank of v1: 1\n",
            "\n",
            "v2: [0 0 0 0 0]\n",
            "\n",
            "rank of v2: 0\n"
          ]
        }
      ],
      "source": [
        "from numpy.linalg import matrix_rank\n",
        "\n",
        "v1 = array([1, 2, 3])\n",
        "print(f\"v1: {v1}\\n\")\n",
        "\n",
        "v1r = matrix_rank(v1)\n",
        "print(f\"rank of v1: {v1r}\\n\")\n",
        "\n",
        "v2 = array([0, 0, 0, 0, 0])\n",
        "print(f\"v2: {v2}\\n\")\n",
        "\n",
        "v2r = matrix_rank(v2)\n",
        "print(f\"rank of v2: {v2r}\")"
      ]
    },
    {
      "cell_type": "markdown",
      "metadata": {
        "id": "OLIDYNCo5F0z"
      },
      "source": [
        "### Matrix Rank:\n",
        "**Rank 0:**"
      ]
    },
    {
      "cell_type": "code",
      "execution_count": null,
      "metadata": {
        "id": "U4h9aEtb5F0z",
        "outputId": "afb627dc-599c-4d22-d886-ba73706efa1d",
        "colab": {
          "base_uri": "https://localhost:8080/"
        }
      },
      "outputs": [
        {
          "output_type": "stream",
          "name": "stdout",
          "text": [
            "M0: \n",
            "[[0 0]\n",
            " [0 0]]\n",
            "\n",
            "rank of M0: 0\n",
            "\n"
          ]
        }
      ],
      "source": [
        "# rank 0\n",
        "M0 = array([[0, 0],\n",
        "            [0, 0]])\n",
        "print(f\"M0: \\n{M0}\\n\")\n",
        "\n",
        "m0r = matrix_rank(M0)\n",
        "print(f\"rank of M0: {m0r}\\n\")"
      ]
    },
    {
      "cell_type": "markdown",
      "metadata": {
        "id": "I4oSHMNL5F00"
      },
      "source": [
        "**Rank 1:**"
      ]
    },
    {
      "cell_type": "code",
      "execution_count": null,
      "metadata": {
        "id": "WkdoejYK5F00",
        "outputId": "14debf69-96e8-492d-fce8-480d28b12864",
        "colab": {
          "base_uri": "https://localhost:8080/"
        }
      },
      "outputs": [
        {
          "output_type": "stream",
          "name": "stdout",
          "text": [
            "M1: [[1 2]\n",
            " [1 2]]\n",
            "\n",
            "rank of M1: 1\n",
            "\n"
          ]
        }
      ],
      "source": [
        "# rank 1\n",
        "M1 = array([[1, 2],\n",
        "            [1, 2]])\n",
        "print(f\"M1: {M1}\\n\")\n",
        "\n",
        "m1r = matrix_rank(M1)\n",
        "print(f\"rank of M1: {m1r}\\n\")"
      ]
    },
    {
      "cell_type": "markdown",
      "metadata": {
        "id": "9eVGfGRI5F00"
      },
      "source": [
        "**Rank 2:**"
      ]
    },
    {
      "cell_type": "code",
      "execution_count": null,
      "metadata": {
        "id": "_h9k8OGy5F01",
        "outputId": "b71ae1ed-5805-4f3f-9edf-7b52e5f835ab",
        "colab": {
          "base_uri": "https://localhost:8080/"
        }
      },
      "outputs": [
        {
          "output_type": "stream",
          "name": "stdout",
          "text": [
            "M2: \n",
            "[[1 2]\n",
            " [3 4]]\n",
            "\n",
            "rank of M2: 2\n"
          ]
        }
      ],
      "source": [
        "# rank 2\n",
        "M2 = array([[1, 2],\n",
        "            [3, 4]])\n",
        "print(f\"M2: \\n{M2}\\n\")\n",
        "\n",
        "m2r = matrix_rank(M2)\n",
        "print(f\"rank of M2: {m2r}\")"
      ]
    }
  ],
  "metadata": {
    "kernelspec": {
      "display_name": "PyCharm (ML-Deep-Practices)",
      "language": "python",
      "name": "pycharm-f0b42db8"
    },
    "language_info": {
      "codemirror_mode": {
        "name": "ipython",
        "version": 3
      },
      "file_extension": ".py",
      "mimetype": "text/x-python",
      "name": "python",
      "nbconvert_exporter": "python",
      "pygments_lexer": "ipython3",
      "version": "3.7.5"
    },
    "colab": {
      "provenance": [],
      "include_colab_link": true
    }
  },
  "nbformat": 4,
  "nbformat_minor": 0
}